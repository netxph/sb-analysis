{
 "cells": [
  {
   "cell_type": "markdown",
   "source": [
    "## Portfolio Exercise: Starbucks\r\n",
    "<br>\r\n",
    "\r\n",
    "<img src=\"https://opj.ca/wp-content/uploads/2018/02/New-Starbucks-Logo-1200x969.jpg\" width=\"200\" height=\"200\">\r\n",
    "<br>\r\n",
    "<br>\r\n",
    " \r\n",
    "#### Background Information\r\n",
    "\r\n",
    "The dataset you will be provided in this portfolio exercise was originally used as a take-home assignment provided by Starbucks for their job candidates. The data for this exercise consists of about 120,000 data points split in a 2:1 ratio among training and test files. In the experiment simulated by the data, an advertising promotion was tested to see if it would bring more customers to purchase a specific product priced at $10. Since it costs the company 0.15 to send out each promotion, it would be best to limit that promotion only to those that are most receptive to the promotion. Each data point includes one column indicating whether or not an individual was sent a promotion for the product, and one column indicating whether or not that individual eventually purchased that product. Each individual also has seven additional features associated with them, which are provided abstractly as V1-V7.\r\n",
    "\r\n",
    "#### Optimization Strategy\r\n",
    "\r\n",
    "Your task is to use the training data to understand what patterns in V1-V7 to indicate that a promotion should be provided to a user. Specifically, your goal is to maximize the following metrics:\r\n",
    "\r\n",
    "* **Incremental Response Rate (IRR)** \r\n",
    "\r\n",
    "IRR depicts how many more customers purchased the product with the promotion, as compared to if they didn't receive the promotion. Mathematically, it's the ratio of the number of purchasers in the promotion group to the total number of customers in the purchasers group (_treatment_) minus the ratio of the number of purchasers in the non-promotional group to the total number of customers in the non-promotional group (_control_).\r\n",
    "\r\n",
    "$$ IRR = \\frac{purch_{treat}}{cust_{treat}} - \\frac{purch_{ctrl}}{cust_{ctrl}} $$\r\n",
    "\r\n",
    "\r\n",
    "* **Net Incremental Revenue (NIR)**\r\n",
    "\r\n",
    "NIR depicts how much is made (or lost) by sending out the promotion. Mathematically, this is 10 times the total number of purchasers that received the promotion minus 0.15 times the number of promotions sent out, minus 10 times the number of purchasers who were not given the promotion.\r\n",
    "\r\n",
    "$$ NIR = (10\\cdot purch_{treat} - 0.15 \\cdot cust_{treat}) - 10 \\cdot purch_{ctrl}$$\r\n",
    "\r\n",
    "For a full description of what Starbucks provides to candidates see the [instructions available here](https://drive.google.com/open?id=18klca9Sef1Rs6q8DW4l7o349r8B70qXM).\r\n",
    "\r\n",
    "Below you can find the training data provided.  Explore the data and different optimization strategies.\r\n",
    "\r\n",
    "#### How To Test Your Strategy?\r\n",
    "\r\n",
    "When you feel like you have an optimization strategy, complete the `promotion_strategy` function to pass to the `test_results` function.  \r\n",
    "From past data, we know there are four possible outomes:\r\n",
    "\r\n",
    "Table of actual promotion vs. predicted promotion customers:  \r\n",
    "\r\n",
    "<table>\r\n",
    "<tr><th></th><th colspan = '2'>Actual</th></tr>\r\n",
    "<tr><th>Predicted</th><th>Yes</th><th>No</th></tr>\r\n",
    "<tr><th>Yes</th><td>I</td><td>II</td></tr>\r\n",
    "<tr><th>No</th><td>III</td><td>IV</td></tr>\r\n",
    "</table>\r\n",
    "\r\n",
    "The metrics are only being compared for the individuals we predict should obtain the promotion – that is, quadrants I and II.  Since the first set of individuals that receive the promotion (in the training set) receive it randomly, we can expect that quadrants I and II will have approximately equivalent participants.  \r\n",
    "\r\n",
    "Comparing quadrant I to II then gives an idea of how well your promotion strategy will work in the future. \r\n",
    "\r\n",
    "Get started by reading in the data below.  See how each variable or combination of variables along with a promotion influences the chance of purchasing.  When you feel like you have a strategy for who should receive a promotion, test your strategy against the test dataset used in the final `test_results` function."
   ],
   "metadata": {}
  },
  {
   "cell_type": "code",
   "execution_count": 1,
   "source": [
    "# load in packages\r\n",
    "from itertools import combinations\r\n",
    "\r\n",
    "from src.test_results import test_results, score\r\n",
    "from src.utils import to_snake_case\r\n",
    "from src.calculate import irr, nir\r\n",
    "\r\n",
    "import numpy as np\r\n",
    "import pandas as pd\r\n",
    "import scipy as sp\r\n",
    "import sklearn as sk\r\n",
    "import scipy.stats as stats\r\n",
    "\r\n",
    "import matplotlib.pyplot as plt\r\n",
    "import seaborn as sns\r\n",
    "%matplotlib inline\r\n",
    "%load_ext autoreload"
   ],
   "outputs": [],
   "metadata": {}
  },
  {
   "cell_type": "code",
   "execution_count": 2,
   "source": [
    "# load in the data\r\n",
    "train_data = pd.read_csv('../data/processed/training.csv')\r\n",
    "train_data.head()"
   ],
   "outputs": [
    {
     "output_type": "execute_result",
     "data": {
      "text/html": [
       "<div>\n",
       "<style scoped>\n",
       "    .dataframe tbody tr th:only-of-type {\n",
       "        vertical-align: middle;\n",
       "    }\n",
       "\n",
       "    .dataframe tbody tr th {\n",
       "        vertical-align: top;\n",
       "    }\n",
       "\n",
       "    .dataframe thead th {\n",
       "        text-align: right;\n",
       "    }\n",
       "</style>\n",
       "<table border=\"1\" class=\"dataframe\">\n",
       "  <thead>\n",
       "    <tr style=\"text-align: right;\">\n",
       "      <th></th>\n",
       "      <th>id</th>\n",
       "      <th>promotion</th>\n",
       "      <th>purchase</th>\n",
       "      <th>v1</th>\n",
       "      <th>v2</th>\n",
       "      <th>v3</th>\n",
       "      <th>v4</th>\n",
       "      <th>v5</th>\n",
       "      <th>v6</th>\n",
       "      <th>v7</th>\n",
       "    </tr>\n",
       "  </thead>\n",
       "  <tbody>\n",
       "    <tr>\n",
       "      <th>0</th>\n",
       "      <td>1</td>\n",
       "      <td>False</td>\n",
       "      <td>False</td>\n",
       "      <td>2</td>\n",
       "      <td>30.443518</td>\n",
       "      <td>-1.165083</td>\n",
       "      <td>1</td>\n",
       "      <td>1</td>\n",
       "      <td>3</td>\n",
       "      <td>2</td>\n",
       "    </tr>\n",
       "    <tr>\n",
       "      <th>1</th>\n",
       "      <td>3</td>\n",
       "      <td>False</td>\n",
       "      <td>False</td>\n",
       "      <td>3</td>\n",
       "      <td>32.159350</td>\n",
       "      <td>-0.645617</td>\n",
       "      <td>2</td>\n",
       "      <td>3</td>\n",
       "      <td>2</td>\n",
       "      <td>2</td>\n",
       "    </tr>\n",
       "    <tr>\n",
       "      <th>2</th>\n",
       "      <td>4</td>\n",
       "      <td>False</td>\n",
       "      <td>False</td>\n",
       "      <td>2</td>\n",
       "      <td>30.431659</td>\n",
       "      <td>0.133583</td>\n",
       "      <td>1</td>\n",
       "      <td>1</td>\n",
       "      <td>4</td>\n",
       "      <td>2</td>\n",
       "    </tr>\n",
       "    <tr>\n",
       "      <th>3</th>\n",
       "      <td>5</td>\n",
       "      <td>False</td>\n",
       "      <td>False</td>\n",
       "      <td>0</td>\n",
       "      <td>26.588914</td>\n",
       "      <td>-0.212728</td>\n",
       "      <td>2</td>\n",
       "      <td>1</td>\n",
       "      <td>4</td>\n",
       "      <td>2</td>\n",
       "    </tr>\n",
       "    <tr>\n",
       "      <th>4</th>\n",
       "      <td>8</td>\n",
       "      <td>True</td>\n",
       "      <td>False</td>\n",
       "      <td>3</td>\n",
       "      <td>28.044331</td>\n",
       "      <td>-0.385883</td>\n",
       "      <td>1</td>\n",
       "      <td>1</td>\n",
       "      <td>2</td>\n",
       "      <td>2</td>\n",
       "    </tr>\n",
       "  </tbody>\n",
       "</table>\n",
       "</div>"
      ],
      "text/plain": [
       "   id  promotion  purchase  v1         v2        v3  v4  v5  v6  v7\n",
       "0   1      False     False   2  30.443518 -1.165083   1   1   3   2\n",
       "1   3      False     False   3  32.159350 -0.645617   2   3   2   2\n",
       "2   4      False     False   2  30.431659  0.133583   1   1   4   2\n",
       "3   5      False     False   0  26.588914 -0.212728   2   1   4   2\n",
       "4   8       True     False   3  28.044331 -0.385883   1   1   2   2"
      ]
     },
     "metadata": {},
     "execution_count": 2
    }
   ],
   "metadata": {}
  },
  {
   "cell_type": "code",
   "execution_count": 3,
   "source": [
    "train_data.info()"
   ],
   "outputs": [
    {
     "output_type": "stream",
     "name": "stdout",
     "text": [
      "<class 'pandas.core.frame.DataFrame'>\n",
      "RangeIndex: 84534 entries, 0 to 84533\n",
      "Data columns (total 10 columns):\n",
      " #   Column     Non-Null Count  Dtype  \n",
      "---  ------     --------------  -----  \n",
      " 0   id         84534 non-null  int64  \n",
      " 1   promotion  84534 non-null  bool   \n",
      " 2   purchase   84534 non-null  bool   \n",
      " 3   v1         84534 non-null  int64  \n",
      " 4   v2         84534 non-null  float64\n",
      " 5   v3         84534 non-null  float64\n",
      " 6   v4         84534 non-null  int64  \n",
      " 7   v5         84534 non-null  int64  \n",
      " 8   v6         84534 non-null  int64  \n",
      " 9   v7         84534 non-null  int64  \n",
      "dtypes: bool(2), float64(2), int64(6)\n",
      "memory usage: 5.3 MB\n"
     ]
    }
   ],
   "metadata": {}
  },
  {
   "cell_type": "code",
   "execution_count": 4,
   "source": [
    "train_data.describe()"
   ],
   "outputs": [
    {
     "output_type": "execute_result",
     "data": {
      "text/html": [
       "<div>\n",
       "<style scoped>\n",
       "    .dataframe tbody tr th:only-of-type {\n",
       "        vertical-align: middle;\n",
       "    }\n",
       "\n",
       "    .dataframe tbody tr th {\n",
       "        vertical-align: top;\n",
       "    }\n",
       "\n",
       "    .dataframe thead th {\n",
       "        text-align: right;\n",
       "    }\n",
       "</style>\n",
       "<table border=\"1\" class=\"dataframe\">\n",
       "  <thead>\n",
       "    <tr style=\"text-align: right;\">\n",
       "      <th></th>\n",
       "      <th>id</th>\n",
       "      <th>v1</th>\n",
       "      <th>v2</th>\n",
       "      <th>v3</th>\n",
       "      <th>v4</th>\n",
       "      <th>v5</th>\n",
       "      <th>v6</th>\n",
       "      <th>v7</th>\n",
       "    </tr>\n",
       "  </thead>\n",
       "  <tbody>\n",
       "    <tr>\n",
       "      <th>count</th>\n",
       "      <td>84534.000000</td>\n",
       "      <td>84534.000000</td>\n",
       "      <td>84534.000000</td>\n",
       "      <td>84534.000000</td>\n",
       "      <td>84534.000000</td>\n",
       "      <td>84534.000000</td>\n",
       "      <td>84534.000000</td>\n",
       "      <td>84534.000000</td>\n",
       "    </tr>\n",
       "    <tr>\n",
       "      <th>mean</th>\n",
       "      <td>62970.972413</td>\n",
       "      <td>1.500662</td>\n",
       "      <td>29.973600</td>\n",
       "      <td>0.000190</td>\n",
       "      <td>1.679608</td>\n",
       "      <td>2.327643</td>\n",
       "      <td>2.502898</td>\n",
       "      <td>1.701694</td>\n",
       "    </tr>\n",
       "    <tr>\n",
       "      <th>std</th>\n",
       "      <td>36418.440539</td>\n",
       "      <td>0.868234</td>\n",
       "      <td>5.010626</td>\n",
       "      <td>1.000485</td>\n",
       "      <td>0.466630</td>\n",
       "      <td>0.841167</td>\n",
       "      <td>1.117349</td>\n",
       "      <td>0.457517</td>\n",
       "    </tr>\n",
       "    <tr>\n",
       "      <th>min</th>\n",
       "      <td>1.000000</td>\n",
       "      <td>0.000000</td>\n",
       "      <td>7.104007</td>\n",
       "      <td>-1.684550</td>\n",
       "      <td>1.000000</td>\n",
       "      <td>1.000000</td>\n",
       "      <td>1.000000</td>\n",
       "      <td>1.000000</td>\n",
       "    </tr>\n",
       "    <tr>\n",
       "      <th>25%</th>\n",
       "      <td>31467.250000</td>\n",
       "      <td>1.000000</td>\n",
       "      <td>26.591501</td>\n",
       "      <td>-0.905350</td>\n",
       "      <td>1.000000</td>\n",
       "      <td>2.000000</td>\n",
       "      <td>2.000000</td>\n",
       "      <td>1.000000</td>\n",
       "    </tr>\n",
       "    <tr>\n",
       "      <th>50%</th>\n",
       "      <td>62827.500000</td>\n",
       "      <td>2.000000</td>\n",
       "      <td>29.979744</td>\n",
       "      <td>-0.039572</td>\n",
       "      <td>2.000000</td>\n",
       "      <td>2.000000</td>\n",
       "      <td>3.000000</td>\n",
       "      <td>2.000000</td>\n",
       "    </tr>\n",
       "    <tr>\n",
       "      <th>75%</th>\n",
       "      <td>94438.750000</td>\n",
       "      <td>2.000000</td>\n",
       "      <td>33.344593</td>\n",
       "      <td>0.826206</td>\n",
       "      <td>2.000000</td>\n",
       "      <td>3.000000</td>\n",
       "      <td>4.000000</td>\n",
       "      <td>2.000000</td>\n",
       "    </tr>\n",
       "    <tr>\n",
       "      <th>max</th>\n",
       "      <td>126184.000000</td>\n",
       "      <td>3.000000</td>\n",
       "      <td>50.375913</td>\n",
       "      <td>1.691984</td>\n",
       "      <td>2.000000</td>\n",
       "      <td>4.000000</td>\n",
       "      <td>4.000000</td>\n",
       "      <td>2.000000</td>\n",
       "    </tr>\n",
       "  </tbody>\n",
       "</table>\n",
       "</div>"
      ],
      "text/plain": [
       "                  id            v1            v2            v3            v4  \\\n",
       "count   84534.000000  84534.000000  84534.000000  84534.000000  84534.000000   \n",
       "mean    62970.972413      1.500662     29.973600      0.000190      1.679608   \n",
       "std     36418.440539      0.868234      5.010626      1.000485      0.466630   \n",
       "min         1.000000      0.000000      7.104007     -1.684550      1.000000   \n",
       "25%     31467.250000      1.000000     26.591501     -0.905350      1.000000   \n",
       "50%     62827.500000      2.000000     29.979744     -0.039572      2.000000   \n",
       "75%     94438.750000      2.000000     33.344593      0.826206      2.000000   \n",
       "max    126184.000000      3.000000     50.375913      1.691984      2.000000   \n",
       "\n",
       "                 v5            v6            v7  \n",
       "count  84534.000000  84534.000000  84534.000000  \n",
       "mean       2.327643      2.502898      1.701694  \n",
       "std        0.841167      1.117349      0.457517  \n",
       "min        1.000000      1.000000      1.000000  \n",
       "25%        2.000000      2.000000      1.000000  \n",
       "50%        2.000000      3.000000      2.000000  \n",
       "75%        3.000000      4.000000      2.000000  \n",
       "max        4.000000      4.000000      2.000000  "
      ]
     },
     "metadata": {},
     "execution_count": 4
    }
   ],
   "metadata": {}
  },
  {
   "cell_type": "markdown",
   "source": [
    "## Visualize the Data"
   ],
   "metadata": {}
  },
  {
   "cell_type": "code",
   "execution_count": 5,
   "source": [
    "train_data.promotion.value_counts().plot.bar();"
   ],
   "outputs": [
    {
     "output_type": "display_data",
     "data": {
      "image/png": "[encoded data removed]",
      "text/plain": [
       "<Figure size 432x288 with 1 Axes>"
      ]
     },
     "metadata": {
      "needs_background": "light"
     }
    }
   ],
   "metadata": {}
  },
  {
   "cell_type": "markdown",
   "source": [
    "Treatment and control are visually balanced."
   ],
   "metadata": {}
  },
  {
   "cell_type": "code",
   "execution_count": 6,
   "source": [
    "train_data.v1.value_counts().plot.bar();"
   ],
   "outputs": [
    {
     "output_type": "display_data",
     "data": {
      "image/png": "[encoded data removed]",
      "text/plain": [
       "<Figure size 432x288 with 1 Axes>"
      ]
     },
     "metadata": {
      "needs_background": "light"
     }
    }
   ],
   "metadata": {}
  },
  {
   "cell_type": "code",
   "execution_count": 7,
   "source": [
    "train_data.v4.value_counts().plot.bar();"
   ],
   "outputs": [
    {
     "output_type": "display_data",
     "data": {
      "image/png": "[encoded data removed]",
      "text/plain": [
       "<Figure size 432x288 with 1 Axes>"
      ]
     },
     "metadata": {
      "needs_background": "light"
     }
    }
   ],
   "metadata": {}
  },
  {
   "cell_type": "code",
   "execution_count": 8,
   "source": [
    "train_data.v5.value_counts().plot.bar();"
   ],
   "outputs": [
    {
     "output_type": "display_data",
     "data": {
      "image/png": "[encoded data removed]",
      "text/plain": [
       "<Figure size 432x288 with 1 Axes>"
      ]
     },
     "metadata": {
      "needs_background": "light"
     }
    }
   ],
   "metadata": {}
  },
  {
   "cell_type": "code",
   "execution_count": 9,
   "source": [
    "train_data.v6.value_counts().plot.bar();"
   ],
   "outputs": [
    {
     "output_type": "display_data",
     "data": {
      "image/png": "[encoded data removed]",
      "text/plain": [
       "<Figure size 432x288 with 1 Axes>"
      ]
     },
     "metadata": {
      "needs_background": "light"
     }
    }
   ],
   "metadata": {}
  },
  {
   "cell_type": "markdown",
   "source": [
    "`v6` is pretty much the same across."
   ],
   "metadata": {}
  },
  {
   "cell_type": "code",
   "execution_count": 10,
   "source": [
    "train_data.v7.value_counts().plot.bar();"
   ],
   "outputs": [
    {
     "output_type": "display_data",
     "data": {
      "image/png": "[encoded data removed]",
      "text/plain": [
       "<Figure size 432x288 with 1 Axes>"
      ]
     },
     "metadata": {
      "needs_background": "light"
     }
    }
   ],
   "metadata": {}
  },
  {
   "cell_type": "code",
   "execution_count": 11,
   "source": [
    "train_data.v2.hist();"
   ],
   "outputs": [
    {
     "output_type": "display_data",
     "data": {
      "image/png": "[encoded data removed]",
      "text/plain": [
       "<Figure size 432x288 with 1 Axes>"
      ]
     },
     "metadata": {
      "needs_background": "light"
     }
    }
   ],
   "metadata": {}
  },
  {
   "cell_type": "markdown",
   "source": [
    "Interestingly, `v2` is symmetric which mean is around ~30."
   ],
   "metadata": {}
  },
  {
   "cell_type": "code",
   "execution_count": 12,
   "source": [
    "train_data.v3.hist();"
   ],
   "outputs": [
    {
     "output_type": "display_data",
     "data": {
      "image/png": "[encoded data removed]",
      "text/plain": [
       "<Figure size 432x288 with 1 Axes>"
      ]
     },
     "metadata": {
      "needs_background": "light"
     }
    }
   ],
   "metadata": {}
  },
  {
   "cell_type": "markdown",
   "source": [
    "Data across is too close to each other, this may benefit from scalers."
   ],
   "metadata": {}
  },
  {
   "cell_type": "code",
   "execution_count": 13,
   "source": [
    "plt.figure(figsize=(16,10))\r\n",
    "sns.heatmap(train_data[[\"purchase\", \"v1\", \"v2\", \"v3\", \"v4\", \"v5\", \"v6\", \"v7\"]].corr(), annot=True)"
   ],
   "outputs": [
    {
     "output_type": "execute_result",
     "data": {
      "text/plain": [
       "<AxesSubplot:>"
      ]
     },
     "metadata": {},
     "execution_count": 13
    },
    {
     "output_type": "display_data",
     "data": {
      "image/png": "[encoded data removed]",
      "text/plain": [
       "<Figure size 1152x720 with 2 Axes>"
      ]
     },
     "metadata": {
      "needs_background": "light"
     }
    }
   ],
   "metadata": {}
  },
  {
   "cell_type": "markdown",
   "source": [
    "## Response Rate and Revenue"
   ],
   "metadata": {}
  },
  {
   "cell_type": "markdown",
   "source": [
    "Let's check first the current IRR and NIR of the dataset."
   ],
   "metadata": {}
  },
  {
   "cell_type": "code",
   "execution_count": 14,
   "source": [
    "train_data[[\"promotion\", \"purchase\"]].groupby([\"promotion\"]).sum().plot.bar();"
   ],
   "outputs": [
    {
     "output_type": "display_data",
     "data": {
      "image/png": "[encoded data removed]",
      "text/plain": [
       "<Figure size 432x288 with 1 Axes>"
      ]
     },
     "metadata": {
      "needs_background": "light"
     }
    }
   ],
   "metadata": {}
  },
  {
   "cell_type": "code",
   "execution_count": 15,
   "source": [
    "train_data.purchase.value_counts().plot.bar();"
   ],
   "outputs": [
    {
     "output_type": "display_data",
     "data": {
      "image/png": "[encoded data removed]",
      "text/plain": [
       "<Figure size 432x288 with 1 Axes>"
      ]
     },
     "metadata": {
      "needs_background": "light"
     }
    }
   ],
   "metadata": {}
  },
  {
   "cell_type": "markdown",
   "source": [
    "Let's take note the huge imbalance in purchase data."
   ],
   "metadata": {}
  },
  {
   "cell_type": "code",
   "execution_count": 16,
   "source": [
    "irr(train_data), nir(train_data)"
   ],
   "outputs": [
    {
     "output_type": "execute_result",
     "data": {
      "text/plain": [
       "(0.009454547819772702, -2334.5999999999995)"
      ]
     },
     "metadata": {},
     "execution_count": 16
    }
   ],
   "metadata": {}
  },
  {
   "cell_type": "markdown",
   "source": [
    "Based on the result, it shows that even though we got positive IRR, we are losing a lot with a negative NIR. Maybe we can target promotion to those only who are likely to purchase."
   ],
   "metadata": {}
  },
  {
   "cell_type": "markdown",
   "source": [
    "## Invariant Metric"
   ],
   "metadata": {}
  },
  {
   "cell_type": "markdown",
   "source": [
    "Before we proceed to improve our promotion targeting, let's analyze first the current experiment, if there's anything that we can get out of. We need to establish first if we have balance and if it's statistically significant.\r\n",
    "\r\n",
    "The Null-Hypothesis $H_0$ states that the customers are equally distributed among control group and experimental group. The alternative Hypothesis $H_1$ states that the amount of customers in control group and experimental group are different."
   ],
   "metadata": {}
  },
  {
   "cell_type": "markdown",
   "source": [
    "**Analytic Approach**"
   ],
   "metadata": {}
  },
  {
   "cell_type": "code",
   "execution_count": 17,
   "source": [
    "n_obs = len(train_data)\r\n",
    "n_control = len(train_data[~train_data.promotion])"
   ],
   "outputs": [],
   "metadata": {}
  },
  {
   "cell_type": "code",
   "execution_count": 18,
   "source": [
    "p = 0.5\r\n",
    "sd = np.sqrt(p* (1-p) * n_obs)\r\n",
    "\r\n",
    "z_score = ((n_control + 0.5) - p * n_obs) / sd\r\n",
    "p_value = 2 * stats.norm.cdf(z_score)\r\n",
    "\r\n",
    "z_score, p_value"
   ],
   "outputs": [
    {
     "output_type": "execute_result",
     "data": {
      "text/plain": [
       "(-0.6638066506192843, 0.5068140685419046)"
      ]
     },
     "metadata": {},
     "execution_count": 18
    }
   ],
   "metadata": {}
  },
  {
   "cell_type": "markdown",
   "source": [
    "The probability of seeing the observed amount of users in control group under the null hypothesis is 0.506. We **fail to reject the hypothesis** therfore, the customers are distributed equally."
   ],
   "metadata": {}
  },
  {
   "cell_type": "markdown",
   "source": [
    "## Experiment Analysis"
   ],
   "metadata": {}
  },
  {
   "cell_type": "markdown",
   "source": [
    "**Experiment 1**\r\n",
    "\r\n",
    "$$ \r\n",
    "{H_{0}} = IRR \\leq 0 \\\\\r\n",
    "\r\n",
    "{H_{1}} = IRR \\gt 0 \r\n",
    "$$"
   ],
   "metadata": {}
  },
  {
   "cell_type": "code",
   "execution_count": 19,
   "source": [
    "n_treat = len(train_data[train_data.promotion])\r\n",
    "\r\n",
    "p_null = train_data.purchase.mean()\r\n",
    "\r\n",
    "n_treat, n_control, p_null"
   ],
   "outputs": [
    {
     "output_type": "execute_result",
     "data": {
      "text/plain": [
       "(42364, 42170, 0.012302742091939338)"
      ]
     },
     "metadata": {},
     "execution_count": 19
    }
   ],
   "metadata": {}
  },
  {
   "cell_type": "code",
   "execution_count": 20,
   "source": [
    "se_p = np.sqrt(p_null * (1 - p_null) * (1/n_control + 1/n_treat))\r\n",
    "\r\n",
    "p_purch_treat = train_data[train_data.promotion].purchase.mean()\r\n",
    "p_purch_control = train_data[~train_data.promotion].purchase.mean()\r\n",
    "\r\n",
    "z_score = (p_purch_treat - p_purch_control) / se_p\r\n",
    "p_value = 1 - sp.stats.norm.cdf(z_score)\r\n",
    "\r\n",
    "se_p, z_score, p_value"
   ],
   "outputs": [
    {
     "output_type": "execute_result",
     "data": {
      "text/plain": [
       "(0.00075827775128664, 12.468449461599388, 0.0)"
      ]
     },
     "metadata": {},
     "execution_count": 20
    }
   ],
   "metadata": {}
  },
  {
   "cell_type": "markdown",
   "source": [
    "With $ \\alpha = 0.25 $ due to **Bonferroni Correction**, the probability of seeing $ IRR \\leq 0 $ is 0.0, therefore, we **reject the hypothesis**."
   ],
   "metadata": {}
  },
  {
   "cell_type": "markdown",
   "source": [
    "**Experiment 2**\r\n",
    "\r\n",
    "$$ \r\n",
    "{H_{0}} = NIR \\leq 0 \\\\\r\n",
    "{H_{1}} = NIR \\gt 0 \r\n",
    "$$"
   ],
   "metadata": {}
  },
  {
   "cell_type": "code",
   "execution_count": 21,
   "source": [
    "# We need a per line revenue to determine p_null\r\n",
    "\r\n",
    "train_data[\"revenue\"] = (train_data.promotion * -0.15) + (train_data.purchase * 10)\r\n",
    "train_data.revenue.value_counts()"
   ],
   "outputs": [
    {
     "output_type": "execute_result",
     "data": {
      "text/plain": [
       " 0.00     41851\n",
       "-0.15     41643\n",
       " 9.85       721\n",
       " 10.00      319\n",
       "Name: revenue, dtype: int64"
      ]
     },
     "metadata": {},
     "execution_count": 21
    }
   ],
   "metadata": {}
  },
  {
   "cell_type": "code",
   "execution_count": 22,
   "source": [
    "# double check if the value is the same as NIR\r\n",
    "\r\n",
    "train_data[train_data.promotion].revenue.sum() - train_data[~train_data.promotion].revenue.sum()"
   ],
   "outputs": [
    {
     "output_type": "execute_result",
     "data": {
      "text/plain": [
       "-2334.6000000000004"
      ]
     },
     "metadata": {},
     "execution_count": 22
    }
   ],
   "metadata": {}
  },
  {
   "cell_type": "code",
   "execution_count": 23,
   "source": [
    "p_null = train_data.revenue.mean()\r\n",
    "p_null\r\n",
    "\r\n",
    "se_p = np.sqrt(p_null * (1 - p_null) * (1/n_control + 1/n_treat))\r\n",
    "\r\n",
    "p_revenue_treat = train_data[train_data.promotion].revenue.mean()\r\n",
    "p_revenue_control = train_data[~train_data.promotion].revenue.mean()\r\n",
    "\r\n",
    "z_score = (p_revenue_treat - p_revenue_control) / se_p\r\n",
    "p_value = 1 - sp.stats.norm.cdf(z_score)\r\n",
    "\r\n",
    "se_p, z_score, p_value"
   ],
   "outputs": [
    {
     "output_type": "execute_result",
     "data": {
      "text/plain": [
       "(0.0014683579260149596, -37.76635166384357, 1.0)"
      ]
     },
     "metadata": {},
     "execution_count": 23
    }
   ],
   "metadata": {}
  },
  {
   "cell_type": "markdown",
   "source": [
    "With $ \\alpha = 0.25 $ due to **Bonferroni Correction**, the probability of seeing $ IRR \\leq 0 $ is 1.0, therefore, we **fail to reject the hypothesis**. It also means that just randomly giving out promotion is not effective increase the NIR."
   ],
   "metadata": {}
  },
  {
   "cell_type": "markdown",
   "source": [
    "## Model Tuning"
   ],
   "metadata": {}
  },
  {
   "cell_type": "markdown",
   "source": [
    "Based on the current analysis, it might be better to create a model that will target customer that will likely to purchase. Since we have a positive IRR, it means we are reinforcing more their urge to buy."
   ],
   "metadata": {}
  },
  {
   "cell_type": "code",
   "execution_count": 24,
   "source": [
    "train_data.head()"
   ],
   "outputs": [
    {
     "output_type": "execute_result",
     "data": {
      "text/html": [
       "<div>\n",
       "<style scoped>\n",
       "    .dataframe tbody tr th:only-of-type {\n",
       "        vertical-align: middle;\n",
       "    }\n",
       "\n",
       "    .dataframe tbody tr th {\n",
       "        vertical-align: top;\n",
       "    }\n",
       "\n",
       "    .dataframe thead th {\n",
       "        text-align: right;\n",
       "    }\n",
       "</style>\n",
       "<table border=\"1\" class=\"dataframe\">\n",
       "  <thead>\n",
       "    <tr style=\"text-align: right;\">\n",
       "      <th></th>\n",
       "      <th>id</th>\n",
       "      <th>promotion</th>\n",
       "      <th>purchase</th>\n",
       "      <th>v1</th>\n",
       "      <th>v2</th>\n",
       "      <th>v3</th>\n",
       "      <th>v4</th>\n",
       "      <th>v5</th>\n",
       "      <th>v6</th>\n",
       "      <th>v7</th>\n",
       "      <th>revenue</th>\n",
       "    </tr>\n",
       "  </thead>\n",
       "  <tbody>\n",
       "    <tr>\n",
       "      <th>0</th>\n",
       "      <td>1</td>\n",
       "      <td>False</td>\n",
       "      <td>False</td>\n",
       "      <td>2</td>\n",
       "      <td>30.443518</td>\n",
       "      <td>-1.165083</td>\n",
       "      <td>1</td>\n",
       "      <td>1</td>\n",
       "      <td>3</td>\n",
       "      <td>2</td>\n",
       "      <td>0.00</td>\n",
       "    </tr>\n",
       "    <tr>\n",
       "      <th>1</th>\n",
       "      <td>3</td>\n",
       "      <td>False</td>\n",
       "      <td>False</td>\n",
       "      <td>3</td>\n",
       "      <td>32.159350</td>\n",
       "      <td>-0.645617</td>\n",
       "      <td>2</td>\n",
       "      <td>3</td>\n",
       "      <td>2</td>\n",
       "      <td>2</td>\n",
       "      <td>0.00</td>\n",
       "    </tr>\n",
       "    <tr>\n",
       "      <th>2</th>\n",
       "      <td>4</td>\n",
       "      <td>False</td>\n",
       "      <td>False</td>\n",
       "      <td>2</td>\n",
       "      <td>30.431659</td>\n",
       "      <td>0.133583</td>\n",
       "      <td>1</td>\n",
       "      <td>1</td>\n",
       "      <td>4</td>\n",
       "      <td>2</td>\n",
       "      <td>0.00</td>\n",
       "    </tr>\n",
       "    <tr>\n",
       "      <th>3</th>\n",
       "      <td>5</td>\n",
       "      <td>False</td>\n",
       "      <td>False</td>\n",
       "      <td>0</td>\n",
       "      <td>26.588914</td>\n",
       "      <td>-0.212728</td>\n",
       "      <td>2</td>\n",
       "      <td>1</td>\n",
       "      <td>4</td>\n",
       "      <td>2</td>\n",
       "      <td>0.00</td>\n",
       "    </tr>\n",
       "    <tr>\n",
       "      <th>4</th>\n",
       "      <td>8</td>\n",
       "      <td>True</td>\n",
       "      <td>False</td>\n",
       "      <td>3</td>\n",
       "      <td>28.044331</td>\n",
       "      <td>-0.385883</td>\n",
       "      <td>1</td>\n",
       "      <td>1</td>\n",
       "      <td>2</td>\n",
       "      <td>2</td>\n",
       "      <td>-0.15</td>\n",
       "    </tr>\n",
       "  </tbody>\n",
       "</table>\n",
       "</div>"
      ],
      "text/plain": [
       "   id  promotion  purchase  v1         v2        v3  v4  v5  v6  v7  revenue\n",
       "0   1      False     False   2  30.443518 -1.165083   1   1   3   2     0.00\n",
       "1   3      False     False   3  32.159350 -0.645617   2   3   2   2     0.00\n",
       "2   4      False     False   2  30.431659  0.133583   1   1   4   2     0.00\n",
       "3   5      False     False   0  26.588914 -0.212728   2   1   4   2     0.00\n",
       "4   8       True     False   3  28.044331 -0.385883   1   1   2   2    -0.15"
      ]
     },
     "metadata": {},
     "execution_count": 24
    }
   ],
   "metadata": {}
  },
  {
   "cell_type": "code",
   "execution_count": 25,
   "source": [
    "def clean_data(df):\r\n",
    "    \"\"\"\r\n",
    "    Clean and separate data for training.\r\n",
    "\r\n",
    "    Args:\r\n",
    "        df (pandas.DataFrame): DataFrame containing data.\r\n",
    "\r\n",
    "    Returns:\r\n",
    "        X (pandas.DataFrame): DataFrame containing features.\r\n",
    "        y (pandas.Series): Series containing labels.    \r\n",
    "    \"\"\"\r\n",
    "\r\n",
    "    y = df[[\"purchase\"]]\r\n",
    "    y = np.ravel(y)\r\n",
    "\r\n",
    "    X = df[[\"v1\", \"v2\", \"v3\", \"v4\", \"v5\", \"v6\", \"v7\"]]\r\n",
    "\r\n",
    "    return X, y"
   ],
   "outputs": [],
   "metadata": {}
  },
  {
   "cell_type": "markdown",
   "source": [
    "We observed a while ago that `v3` data are too closed together. At the same time we can perhaps assume that `v1`, `v4`, `v5`, `v6`, `v7` are categorical variables, we are going to apply `OneHotEncoder` on these. Finally, we are going to choose `LogisticRegression` but make sure that `class_weight='balanced'` since the purchase ratio is greatly imbalanced."
   ],
   "metadata": {}
  },
  {
   "cell_type": "code",
   "execution_count": 26,
   "source": [
    "from sklearn.preprocessing import OneHotEncoder, MinMaxScaler\r\n",
    "from sklearn.compose import make_column_transformer\r\n",
    "from sklearn.pipeline import Pipeline\r\n",
    "from sklearn.linear_model import LogisticRegression\r\n",
    "from sklearn.model_selection import train_test_split\r\n",
    "\r\n",
    "preprocess = make_column_transformer(\r\n",
    "        (MinMaxScaler(), ['v2','v3']),\r\n",
    "        (OneHotEncoder(), ['v1', 'v4','v5','v6','v7']))\r\n",
    "\r\n",
    "pipeline = Pipeline([\r\n",
    "    (\"preprocess\", preprocess),\r\n",
    "    (\"predict\", LogisticRegression(solver='newton-cg', class_weight='balanced'))\r\n",
    "])\r\n",
    "\r\n",
    "X, y = clean_data(train_data)\r\n",
    "\r\n",
    "X_train, X_test, y_train, y_test = train_test_split(X, y, test_size=0.2, random_state=42)\r\n",
    "\r\n",
    "pipeline.fit(X_train, y_train)"
   ],
   "outputs": [
    {
     "output_type": "execute_result",
     "data": {
      "text/plain": [
       "Pipeline(steps=[('preprocess',\n",
       "                 ColumnTransformer(transformers=[('minmaxscaler',\n",
       "                                                  MinMaxScaler(),\n",
       "                                                  ['v2', 'v3']),\n",
       "                                                 ('onehotencoder',\n",
       "                                                  OneHotEncoder(),\n",
       "                                                  ['v1', 'v4', 'v5', 'v6',\n",
       "                                                   'v7'])])),\n",
       "                ('predict',\n",
       "                 LogisticRegression(class_weight='balanced',\n",
       "                                    solver='newton-cg'))])"
      ]
     },
     "metadata": {},
     "execution_count": 26
    }
   ],
   "metadata": {}
  },
  {
   "cell_type": "code",
   "execution_count": 27,
   "source": [
    "import joblib\r\n",
    "\r\n",
    "joblib.dump(pipeline, \"../models/model.pkl\")"
   ],
   "outputs": [
    {
     "output_type": "execute_result",
     "data": {
      "text/plain": [
       "['../models/model.pkl']"
      ]
     },
     "metadata": {},
     "execution_count": 27
    }
   ],
   "metadata": {}
  },
  {
   "cell_type": "code",
   "execution_count": 28,
   "source": [
    "def promotion_strategy(df):\r\n",
    "    '''\r\n",
    "    INPUT \r\n",
    "    df - a dataframe with *only* the columns V1 - V7 (same as train_data)\r\n",
    "\r\n",
    "    OUTPUT\r\n",
    "    promotion_df - np.array with the values\r\n",
    "                   'Yes' or 'No' related to whether or not an \r\n",
    "                   individual should recieve a promotion \r\n",
    "                   should be the length of df.shape[0]\r\n",
    "                \r\n",
    "    Ex:\r\n",
    "    INPUT: df\r\n",
    "    \r\n",
    "    V1\tV2\t  V3\tV4\tV5\tV6\tV7\r\n",
    "    2\t30\t-1.1\t1\t1\t3\t2\r\n",
    "    3\t32\t-0.6\t2\t3\t2\t2\r\n",
    "    2\t30\t0.13\t1\t1\t4\t2\r\n",
    "    \r\n",
    "    OUTPUT: promotion\r\n",
    "    \r\n",
    "    array(['Yes', 'Yes', 'No'])\r\n",
    "    indicating the first two users would receive the promotion and \r\n",
    "    the last should not.\r\n",
    "    '''\r\n",
    "    model = joblib.load(\"../models/model.pkl\")\r\n",
    "\r\n",
    "    return model.predict(df)\r\n"
   ],
   "outputs": [],
   "metadata": {}
  },
  {
   "cell_type": "markdown",
   "source": [
    "## Test Analysis"
   ],
   "metadata": {}
  },
  {
   "cell_type": "code",
   "execution_count": 29,
   "source": [
    "# This will test your results, and provide you back some information \r\n",
    "# on how well your promotion_strategy will work in practice\r\n",
    "\r\n",
    "test_results(promotion_strategy)"
   ],
   "outputs": [
    {
     "output_type": "stream",
     "name": "stdout",
     "text": [
      "Nice job!  See how well your strategy worked on our test data below!\n",
      "\n",
      "Your irr with this strategy is 0.0197.\n",
      "\n",
      "Your nir with this strategy is 432.10.\n",
      "We came up with a model with an irr of 0.0188 and an nir of 189.45 on the test set.\n",
      "\n",
      " How did you do?\n"
     ]
    },
    {
     "output_type": "execute_result",
     "data": {
      "text/plain": [
       "(0.019677355053963758, 432.10000000000014)"
      ]
     },
     "metadata": {},
     "execution_count": 29
    }
   ],
   "metadata": {}
  }
 ],
 "metadata": {
  "kernelspec": {
   "name": "python3",
   "display_name": "Python 3.9.6 64-bit ('sb-analysis': conda)"
  },
  "language_info": {
   "codemirror_mode": {
    "name": "ipython",
    "version": 3
   },
   "file_extension": ".py",
   "mimetype": "text/x-python",
   "name": "python",
   "nbconvert_exporter": "python",
   "pygments_lexer": "ipython3",
   "version": "3.9.6"
  },
  "interpreter": {
   "hash": "012d6c736a98803db09ffb816c862e57cc11d363b69dd1f4c4ca480b1d48e60e"
  }
 },
 "nbformat": 4,
 "nbformat_minor": 2
}